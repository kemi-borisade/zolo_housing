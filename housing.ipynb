{
 "cells": [
  {
   "cell_type": "code",
   "execution_count": 678,
   "metadata": {},
   "outputs": [],
   "source": [
    "from bs4 import BeautifulSoup\n",
    "import requests\n",
    "from selenium import webdriver\n",
    "import pandas as pd\n",
    "import numpy as np\n",
    "import matplotlib.pyplot as plt\n",
    "import seaborn as sns\n",
    "from random import randint\n",
    "from time import sleep\n",
    "import re"
   ]
  },
  {
   "cell_type": "markdown",
   "metadata": {},
   "source": [
    "## Web Scraping"
   ]
  },
  {
   "cell_type": "markdown",
   "metadata": {},
   "source": [
    "Several list variables will be created to store all the data that is scraped"
   ]
  },
  {
   "cell_type": "code",
   "execution_count": null,
   "metadata": {},
   "outputs": [],
   "source": [
    "#list to store scraped data\n",
    "prices = []\n",
    "beds = []\n",
    "baths = []\n",
    "sizes = []\n",
    "addresses = []\n",
    "allarea =[]\n",
    "cities = []\n",
    "provinces = []\n",
    "times=[]\n",
    "ppt_types=[]"
   ]
  },
  {
   "cell_type": "markdown",
   "metadata": {},
   "source": [
    "- The webdriver is required for the scraper to work and this is set to a browser of our choice. \n",
    "- The next line sets the base url which is the first url we visit\n",
    "- driver.get will open the base url and we assign this to the soup variable of beautiful soup"
   ]
  },
  {
   "cell_type": "code",
   "execution_count": null,
   "metadata": {},
   "outputs": [],
   "source": [
    "#send queries from a browser and define main url\n",
    "driver = webdriver.Chrome('/Users/oluwakemiborisade/Downloads/chromedriver')\n",
    "base_url = 'https://www.zolo.ca/index.php?sarea='\n",
    "driver.get(base_url)\n",
    "content = driver.page_source\n",
    "soup = BeautifulSoup(content,'html.parser')"
   ]
  },
  {
   "cell_type": "markdown",
   "metadata": {},
   "source": [
    "- The first line helps to compile links to the different pages on the website since the page changes everytime there is a page change\n",
    "\n",
    "- loop through each page searching for each element related to data that needs to be scraped"
   ]
  },
  {
   "cell_type": "code",
   "execution_count": null,
   "metadata": {},
   "outputs": [],
   "source": [
    "\n",
    "#find all links to pages \n",
    "page_count_links = soup.find_all(\"a\",href=re.compile(r\".*https://www.zolo.ca/index.php\\?sarea=&s=.*\"))\n",
    "\n",
    "\n",
    "#catch error incase there's only 1 page\n",
    "try:\n",
    "    num_pages = int(page_count_links[0].get_text())\n",
    "except IndexError:\n",
    "    num_pages = 1\n",
    "\n",
    "#form link for the multiple pages on the website\n",
    "\n",
    "url_list = [\"{}&s={}\".format(base_url, str(page)) for page in range(1, 215)]\n",
    "\n",
    "#loop through all pages and scrape data\n",
    "for url_ in url_list:\n",
    "    print (\"Processing {}...\".format(url_))\n",
    "    driver.get(url_)\n",
    "    content = driver.page_source\n",
    "    soup = BeautifulSoup(content,'html.parser')\n",
    "    for element in soup.findAll('div', class_='card-listing--details'):\n",
    "        province = element.find('span', class_='province')\n",
    "        city = element.find('span',class_='city')\n",
    "        area = element.find('span',class_='neighbourhood')\n",
    "        address = element.find('span',class_='street')    \n",
    "        price = element.find('span',itemprop='price')\n",
    "        time_added = element.find('div', class_='fill-primary text-white pill xs-text-6 xs-line-height-1 bold xs-inline-flex xs-flex-align-center xs-py05 xs-px1 xs-ml05')\n",
    "        ppt_type= element.find('svg', class_=\"fill-current xs-mr05\")\n",
    "        bed = element.findAll('li', class_='xs-inline xs-mr1')[0]\n",
    "        bath = element.findAll('li', class_='xs-inline xs-mr1')[1]\n",
    "\n",
    "        if bed and bath:\n",
    "            num_beds = bed.text.split(' ')[0].split('+')[0]\n",
    "            num_baths = bath.text.split(' ')[0].split('+')[0] \n",
    "            \n",
    "            if num_beds == '—'or num_baths == '—'or num_beds =='–'or num_baths=='–':\n",
    "                beds.append('No data')\n",
    "                baths.append('No data')\n",
    "                prices.append('No data')\n",
    "                sizes.append('No data')\n",
    "                cities.append('No data')\n",
    "                allarea.append('No data')\n",
    "                addresses.append('No data')\n",
    "                times.append('No data')\n",
    "                ppt_types.append('No data')\n",
    "            else:\n",
    "                try:\n",
    "                    price_n = price.text.replace(\",\", \"\")\n",
    "                    if float(num_beds) >=1 and float(num_baths)>=1 and province.text =='ON':\n",
    "                        beds.append(num_beds)\n",
    "                        baths.append(num_baths)\n",
    "                        prices.append(price_n)\n",
    "\n",
    "                        if len(element.findAll('li', class_='xs-inline xs-mr1')) > 2:\n",
    "                            size = element.findAll('li', class_='xs-inline xs-mr1')[2]\n",
    "                            sizes.append(size.text.split(' ')[0])\n",
    "                        else:\n",
    "                            sizes.append('No data')  \n",
    "\n",
    "                        if city and city.text:\n",
    "                            cities.append(city.text)\n",
    "                        else:\n",
    "                            cities.append('No data')\n",
    "\n",
    "                        if area and area.text:\n",
    "                            allarea.append(area.text[1:])\n",
    "                        else:\n",
    "                            allarea.append('No data')\n",
    "\n",
    "                        if address and address.text:\n",
    "                            addresses.append(address.text)\n",
    "                        else:\n",
    "                            addresses.append('No data')\n",
    "                        \n",
    "                        if time_added and time_added.text:\n",
    "                            times.append(time_added.text)\n",
    "                        else:\n",
    "                            times.append('No data')\n",
    "                        \n",
    "                        if ppt_type and ppt_type.text:\n",
    "                            ppt_types.append(ppt_type.text)\n",
    "                            \n",
    "                        else:\n",
    "                            ppt_types.append('No data')\n",
    "\n",
    "                except Exception:\n",
    "                    pass\n",
    "        else:\n",
    "            break\n",
    "    sleep(randint(2,10))\n",
    "\n",
    "        \n",
    "df = pd.DataFrame({'City':cities,'Neighbourhood': allarea,'Address':addresses, 'Property Type':ppt_types,'Duration on market':times, 'Beds':beds, 'Baths': baths,'Sizes': sizes,'Price': prices, })\n"
   ]
  },
  {
   "cell_type": "markdown",
   "metadata": {},
   "source": [
    "## Data Exploration & Cleaning"
   ]
  },
  {
   "cell_type": "code",
   "execution_count": 771,
   "metadata": {},
   "outputs": [
    {
     "name": "stdout",
     "output_type": "stream",
     "text": [
      "<class 'pandas.core.frame.DataFrame'>\n",
      "RangeIndex: 5127 entries, 0 to 5126\n",
      "Data columns (total 9 columns):\n",
      " #   Column              Non-Null Count  Dtype \n",
      "---  ------              --------------  ----- \n",
      " 0   City                5127 non-null   object\n",
      " 1   Neighbourhood       5127 non-null   object\n",
      " 2   Address             5127 non-null   object\n",
      " 3   Property Type       5127 non-null   object\n",
      " 4   Duration on market  5127 non-null   object\n",
      " 5   Beds                5127 non-null   object\n",
      " 6   Baths               5127 non-null   object\n",
      " 7   Sizes               5127 non-null   object\n",
      " 8   Price               5127 non-null   object\n",
      "dtypes: object(9)\n",
      "memory usage: 360.6+ KB\n"
     ]
    }
   ],
   "source": [
    "df.info()"
   ]
  },
  {
   "cell_type": "code",
   "execution_count": 772,
   "metadata": {},
   "outputs": [
    {
     "data": {
      "text/plain": [
       "City                  0\n",
       "Neighbourhood         0\n",
       "Address               0\n",
       "Property Type         0\n",
       "Duration on market    0\n",
       "Beds                  0\n",
       "Baths                 0\n",
       "Sizes                 0\n",
       "Price                 0\n",
       "dtype: int64"
      ]
     },
     "execution_count": 772,
     "metadata": {},
     "output_type": "execute_result"
    }
   ],
   "source": [
    "df.isna().sum()"
   ]
  },
  {
   "cell_type": "code",
   "execution_count": 773,
   "metadata": {},
   "outputs": [
    {
     "data": {
      "text/plain": [
       "(5127, 9)"
      ]
     },
     "execution_count": 773,
     "metadata": {},
     "output_type": "execute_result"
    }
   ],
   "source": [
    "df.shape"
   ]
  },
  {
   "cell_type": "code",
   "execution_count": null,
   "metadata": {},
   "outputs": [],
   "source": [
    "#remove houses with no data for beds \n",
    "houses = df[df.Beds != 'No data']"
   ]
  },
  {
   "cell_type": "code",
   "execution_count": null,
   "metadata": {},
   "outputs": [],
   "source": [
    "houses.shape"
   ]
  },
  {
   "cell_type": "code",
   "execution_count": null,
   "metadata": {},
   "outputs": [],
   "source": [
    "houses.head()"
   ]
  },
  {
   "cell_type": "code",
   "execution_count": null,
   "metadata": {},
   "outputs": [],
   "source": [
    "len(houses[houses.Sizes == 'No data'])"
   ]
  },
  {
   "cell_type": "code",
   "execution_count": null,
   "metadata": {},
   "outputs": [],
   "source": [
    "#dropping Sizes column as 30% of the data is missing and will be hard to impute \n",
    "houses.drop('Sizes',axis=1,inplace=True)"
   ]
  },
  {
   "cell_type": "code",
   "execution_count": 679,
   "metadata": {},
   "outputs": [
    {
     "data": {
      "text/plain": [
       "City                  0\n",
       "Neighbourhood         0\n",
       "Address               0\n",
       "Property Type         0\n",
       "Duration on market    0\n",
       "Beds                  0\n",
       "Baths                 0\n",
       "Price                 0\n",
       "dtype: int64"
      ]
     },
     "execution_count": 679,
     "metadata": {},
     "output_type": "execute_result"
    }
   ],
   "source": [
    "#check nulls per column\n",
    "houses.isnull().sum()"
   ]
  },
  {
   "cell_type": "code",
   "execution_count": null,
   "metadata": {},
   "outputs": [],
   "source": [
    "#check data types\n",
    "houses.info()"
   ]
  },
  {
   "cell_type": "code",
   "execution_count": null,
   "metadata": {},
   "outputs": [],
   "source": [
    "#convert bed, bath, price column to numeric \n",
    "cols = ['Price','Beds','Baths']\n",
    "houses[cols] = houses[cols].apply(pd.to_numeric, errors='coerce')\n",
    "\n",
    "\n"
   ]
  },
  {
   "cell_type": "code",
   "execution_count": 760,
   "metadata": {},
   "outputs": [
    {
     "name": "stderr",
     "output_type": "stream",
     "text": [
      "/anaconda3/lib/python3.7/site-packages/pandas/core/indexing.py:1765: SettingWithCopyWarning: \n",
      "A value is trying to be set on a copy of a slice from a DataFrame.\n",
      "Try using .loc[row_indexer,col_indexer] = value instead\n",
      "\n",
      "See the caveats in the documentation: https://pandas.pydata.org/pandas-docs/stable/user_guide/indexing.html#returning-a-view-versus-a-copy\n",
      "  isetter(loc, value)\n"
     ]
    }
   ],
   "source": [
    "#check for strings that don't match duration \n",
    "\n",
    "dur = ['minute','minutes','days','day','hours','hour']\n",
    "dur_clean = houses[~houses['Duration on market'].str.contains('|'.join(dur))]['Duration on market'].index\n",
    "houses.at[dur_clean, 'Duration on market'] = '00'"
   ]
  },
  {
   "cell_type": "code",
   "execution_count": 764,
   "metadata": {},
   "outputs": [
    {
     "data": {
      "text/html": [
       "<div>\n",
       "<style scoped>\n",
       "    .dataframe tbody tr th:only-of-type {\n",
       "        vertical-align: middle;\n",
       "    }\n",
       "\n",
       "    .dataframe tbody tr th {\n",
       "        vertical-align: top;\n",
       "    }\n",
       "\n",
       "    .dataframe thead th {\n",
       "        text-align: right;\n",
       "    }\n",
       "</style>\n",
       "<table border=\"1\" class=\"dataframe\">\n",
       "  <thead>\n",
       "    <tr style=\"text-align: right;\">\n",
       "      <th></th>\n",
       "      <th>City</th>\n",
       "      <th>Neighbourhood</th>\n",
       "      <th>Address</th>\n",
       "      <th>Property Type</th>\n",
       "      <th>Duration on market</th>\n",
       "      <th>Beds</th>\n",
       "      <th>Baths</th>\n",
       "      <th>Price</th>\n",
       "      <th>total_hours</th>\n",
       "    </tr>\n",
       "  </thead>\n",
       "  <tbody>\n",
       "    <tr>\n",
       "      <th>0</th>\n",
       "      <td>Niagara Falls</td>\n",
       "      <td>No data</td>\n",
       "      <td>7390 Westfield Drive</td>\n",
       "      <td>House</td>\n",
       "      <td>0 days 00:04:00</td>\n",
       "      <td>3</td>\n",
       "      <td>2</td>\n",
       "      <td>799900</td>\n",
       "      <td>0.07</td>\n",
       "    </tr>\n",
       "    <tr>\n",
       "      <th>1</th>\n",
       "      <td>Oshawa</td>\n",
       "      <td>Central</td>\n",
       "      <td>321 Gliddon Avenue</td>\n",
       "      <td>House</td>\n",
       "      <td>0 days 00:19:00</td>\n",
       "      <td>4</td>\n",
       "      <td>2</td>\n",
       "      <td>549000</td>\n",
       "      <td>0.32</td>\n",
       "    </tr>\n",
       "    <tr>\n",
       "      <th>2</th>\n",
       "      <td>St. Catharines</td>\n",
       "      <td>No data</td>\n",
       "      <td>46 Pelham Road</td>\n",
       "      <td>No data</td>\n",
       "      <td>0 days 00:00:00</td>\n",
       "      <td>3</td>\n",
       "      <td>2</td>\n",
       "      <td>399900</td>\n",
       "      <td>0.00</td>\n",
       "    </tr>\n",
       "    <tr>\n",
       "      <th>3</th>\n",
       "      <td>Toronto</td>\n",
       "      <td>Annex</td>\n",
       "      <td>17 Boswell Avenue</td>\n",
       "      <td>Townhouse</td>\n",
       "      <td>0 days 00:34:00</td>\n",
       "      <td>3</td>\n",
       "      <td>5</td>\n",
       "      <td>6495000</td>\n",
       "      <td>0.57</td>\n",
       "    </tr>\n",
       "    <tr>\n",
       "      <th>4</th>\n",
       "      <td>Toronto</td>\n",
       "      <td>Waterfront Communities C1</td>\n",
       "      <td>1102-8 Charlotte Street</td>\n",
       "      <td>Condo</td>\n",
       "      <td>0 days 00:44:00</td>\n",
       "      <td>2</td>\n",
       "      <td>2</td>\n",
       "      <td>988000</td>\n",
       "      <td>0.73</td>\n",
       "    </tr>\n",
       "  </tbody>\n",
       "</table>\n",
       "</div>"
      ],
      "text/plain": [
       "             City              Neighbourhood                  Address  \\\n",
       "0   Niagara Falls                    No data     7390 Westfield Drive   \n",
       "1          Oshawa                    Central       321 Gliddon Avenue   \n",
       "2  St. Catharines                    No data           46 Pelham Road   \n",
       "3         Toronto                      Annex        17 Boswell Avenue   \n",
       "4         Toronto  Waterfront Communities C1  1102-8 Charlotte Street   \n",
       "\n",
       "  Property Type Duration on market  Beds  Baths    Price  total_hours  \n",
       "0         House    0 days 00:04:00     3      2   799900         0.07  \n",
       "1         House    0 days 00:19:00     4      2   549000         0.32  \n",
       "2       No data    0 days 00:00:00     3      2   399900         0.00  \n",
       "3     Townhouse    0 days 00:34:00     3      5  6495000         0.57  \n",
       "4         Condo    0 days 00:44:00     2      2   988000         0.73  "
      ]
     },
     "execution_count": 764,
     "metadata": {},
     "output_type": "execute_result"
    }
   ],
   "source": [
    "#convert duration to hours\n",
    "houses['Duration on market'] = pd.to_timedelta(houses['Duration on market'])\n",
    "houses['total_hours'] =  houses['Duration on market']  / pd.Timedelta(hours=1)\n",
    "houses.head()\n"
   ]
  },
  {
   "cell_type": "code",
   "execution_count": 766,
   "metadata": {},
   "outputs": [
    {
     "name": "stderr",
     "output_type": "stream",
     "text": [
      "/anaconda3/lib/python3.7/site-packages/pandas/core/series.py:4569: SettingWithCopyWarning: \n",
      "A value is trying to be set on a copy of a slice from a DataFrame\n",
      "\n",
      "See the caveats in the documentation: https://pandas.pydata.org/pandas-docs/stable/user_guide/indexing.html#returning-a-view-versus-a-copy\n",
      "  method=method,\n"
     ]
    }
   ],
   "source": [
    "#replace wrong timings with time mean \n",
    "mean_hrs = houses['total_hours'].mean()\n",
    "houses['total_hours'].replace(0.00, mean_hrs,inplace= True)"
   ]
  },
  {
   "cell_type": "code",
   "execution_count": 774,
   "metadata": {},
   "outputs": [
    {
     "data": {
      "text/plain": [
       "House        1818\n",
       "Condo        1644\n",
       "Townhouse     679\n",
       "No data       150\n",
       "Name: Property Type, dtype: int64"
      ]
     },
     "execution_count": 774,
     "metadata": {},
     "output_type": "execute_result"
    }
   ],
   "source": [
    "houses['Property Type'].value_counts()"
   ]
  },
  {
   "cell_type": "code",
   "execution_count": 769,
   "metadata": {},
   "outputs": [
    {
     "data": {
      "text/html": [
       "<div>\n",
       "<style scoped>\n",
       "    .dataframe tbody tr th:only-of-type {\n",
       "        vertical-align: middle;\n",
       "    }\n",
       "\n",
       "    .dataframe tbody tr th {\n",
       "        vertical-align: top;\n",
       "    }\n",
       "\n",
       "    .dataframe thead th {\n",
       "        text-align: right;\n",
       "    }\n",
       "</style>\n",
       "<table border=\"1\" class=\"dataframe\">\n",
       "  <thead>\n",
       "    <tr style=\"text-align: right;\">\n",
       "      <th></th>\n",
       "      <th>Duration on market</th>\n",
       "      <th>Beds</th>\n",
       "      <th>Baths</th>\n",
       "      <th>Price</th>\n",
       "      <th>total_hours</th>\n",
       "    </tr>\n",
       "  </thead>\n",
       "  <tbody>\n",
       "    <tr>\n",
       "      <th>count</th>\n",
       "      <td>4291</td>\n",
       "      <td>4291.00</td>\n",
       "      <td>4291.00</td>\n",
       "      <td>4291.00</td>\n",
       "      <td>4291.00</td>\n",
       "    </tr>\n",
       "    <tr>\n",
       "      <th>mean</th>\n",
       "      <td>5 days 08:37:02.349102773</td>\n",
       "      <td>2.78</td>\n",
       "      <td>2.64</td>\n",
       "      <td>1248378.94</td>\n",
       "      <td>146.00</td>\n",
       "    </tr>\n",
       "    <tr>\n",
       "      <th>std</th>\n",
       "      <td>5 days 01:48:33.984838039</td>\n",
       "      <td>1.19</td>\n",
       "      <td>1.33</td>\n",
       "      <td>903088.05</td>\n",
       "      <td>110.90</td>\n",
       "    </tr>\n",
       "    <tr>\n",
       "      <th>min</th>\n",
       "      <td>0 days 00:00:00</td>\n",
       "      <td>1.00</td>\n",
       "      <td>1.00</td>\n",
       "      <td>1500.00</td>\n",
       "      <td>0.07</td>\n",
       "    </tr>\n",
       "    <tr>\n",
       "      <th>25%</th>\n",
       "      <td>0 days 14:00:00</td>\n",
       "      <td>2.00</td>\n",
       "      <td>2.00</td>\n",
       "      <td>729999.00</td>\n",
       "      <td>48.00</td>\n",
       "    </tr>\n",
       "    <tr>\n",
       "      <th>50%</th>\n",
       "      <td>5 days 00:00:00</td>\n",
       "      <td>3.00</td>\n",
       "      <td>2.00</td>\n",
       "      <td>998000.00</td>\n",
       "      <td>128.62</td>\n",
       "    </tr>\n",
       "    <tr>\n",
       "      <th>75%</th>\n",
       "      <td>8 days 00:00:00</td>\n",
       "      <td>4.00</td>\n",
       "      <td>3.00</td>\n",
       "      <td>1482500.00</td>\n",
       "      <td>192.00</td>\n",
       "    </tr>\n",
       "    <tr>\n",
       "      <th>max</th>\n",
       "      <td>18 days 00:00:00</td>\n",
       "      <td>9.00</td>\n",
       "      <td>16.00</td>\n",
       "      <td>17888000.00</td>\n",
       "      <td>432.00</td>\n",
       "    </tr>\n",
       "  </tbody>\n",
       "</table>\n",
       "</div>"
      ],
      "text/plain": [
       "              Duration on market    Beds   Baths       Price  total_hours\n",
       "count                       4291 4291.00 4291.00     4291.00      4291.00\n",
       "mean   5 days 08:37:02.349102773    2.78    2.64  1248378.94       146.00\n",
       "std    5 days 01:48:33.984838039    1.19    1.33   903088.05       110.90\n",
       "min              0 days 00:00:00    1.00    1.00     1500.00         0.07\n",
       "25%              0 days 14:00:00    2.00    2.00   729999.00        48.00\n",
       "50%              5 days 00:00:00    3.00    2.00   998000.00       128.62\n",
       "75%              8 days 00:00:00    4.00    3.00  1482500.00       192.00\n",
       "max             18 days 00:00:00    9.00   16.00 17888000.00       432.00"
      ]
     },
     "execution_count": 769,
     "metadata": {},
     "output_type": "execute_result"
    }
   ],
   "source": [
    "\n",
    "pd.set_option('display.float_format', lambda x: '%.2f' % x) #supress scientific notation for price\n",
    "houses.describe()\n"
   ]
  },
  {
   "cell_type": "markdown",
   "metadata": {},
   "source": [
    "## Data Visualisation"
   ]
  },
  {
   "cell_type": "markdown",
   "metadata": {},
   "source": [
    " The price is not normally distributed, it is rightly skewed showing outliers on the right side of the distribution. A box plot will show this better"
   ]
  },
  {
   "cell_type": "code",
   "execution_count": 681,
   "metadata": {},
   "outputs": [
    {
     "data": {
      "text/plain": [
       "<seaborn.axisgrid.FacetGrid at 0x128d7cf28>"
      ]
     },
     "execution_count": 681,
     "metadata": {},
     "output_type": "execute_result"
    },
    {
     "data": {
      "image/png": "[encoded data removed]",
      "text/plain": [
       "<Figure size 360x360 with 1 Axes>"
      ]
     },
     "metadata": {},
     "output_type": "display_data"
    }
   ],
   "source": [
    "sns.displot( x=\"Price\", data = houses)"
   ]
  },
  {
   "cell_type": "markdown",
   "metadata": {},
   "source": [
    "The box plot below shows the outliers related to Price. This is related to the houses with a large number of beds - 16 beds for example"
   ]
  },
  {
   "cell_type": "code",
   "execution_count": 683,
   "metadata": {},
   "outputs": [
    {
     "data": {
      "image/png": "[encoded data removed]",
      "text/plain": [
       "<Figure size 288x288 with 1 Axes>"
      ]
     },
     "metadata": {},
     "output_type": "display_data"
    }
   ],
   "source": [
    "sns.boxplot(x=houses[\"Price\"])\n",
    "plt.show()"
   ]
  },
  {
   "cell_type": "markdown",
   "metadata": {},
   "source": [
    "Most of the beds are between 1 and 7. But there are few outliers like the 16 beds, some of these are not residential properties"
   ]
  },
  {
   "cell_type": "code",
   "execution_count": 684,
   "metadata": {},
   "outputs": [
    {
     "data": {
      "image/png": "[encoded data removed]",
      "text/plain": [
       "<Figure size 288x288 with 1 Axes>"
      ]
     },
     "metadata": {},
     "output_type": "display_data"
    }
   ],
   "source": [
    "sns.boxplot(x=houses[\"Beds\"])\n",
    "plt.show()"
   ]
  },
  {
   "cell_type": "code",
   "execution_count": 685,
   "metadata": {},
   "outputs": [
    {
     "data": {
      "image/png": "[encoded data removed]",
      "text/plain": [
       "<Figure size 288x288 with 1 Axes>"
      ]
     },
     "metadata": {},
     "output_type": "display_data"
    }
   ],
   "source": [
    "sns.boxplot(x=houses[\"Baths\"])\n",
    "plt.show()"
   ]
  },
  {
   "cell_type": "code",
   "execution_count": 734,
   "metadata": {},
   "outputs": [
    {
     "data": {
      "image/png": "[encoded data removed]",
      "text/plain": [
       "<Figure size 1152x576 with 1 Axes>"
      ]
     },
     "metadata": {},
     "output_type": "display_data"
    }
   ],
   "source": [
    "sns.boxplot(x=new[\"total_hours\"])\n",
    "plt.show()"
   ]
  },
  {
   "cell_type": "markdown",
   "metadata": {},
   "source": [
    "Toronto has the highest number of listings in the dataset"
   ]
  },
  {
   "cell_type": "code",
   "execution_count": 707,
   "metadata": {},
   "outputs": [
    {
     "data": {
      "text/plain": [
       "<AxesSubplot:xlabel='City', ylabel='count'>"
      ]
     },
     "execution_count": 707,
     "metadata": {},
     "output_type": "execute_result"
    },
    {
     "data": {
      "image/png": "[encoded data removed]",
      "text/plain": [
       "<Figure size 1152x576 with 1 Axes>"
      ]
     },
     "metadata": {},
     "output_type": "display_data"
    }
   ],
   "source": [
    "#houses['City'].value_counts()\n",
    "sns.set(rc = {'figure.figsize':(16,8)})\n",
    "\n",
    "sns.countplot(x='City', data=houses, order=pd.value_counts(houses['City']).iloc[:10].index)\n"
   ]
  },
  {
   "cell_type": "markdown",
   "metadata": {},
   "source": [
    "This checks the distribution of neighbourhood. Asides from 'No data' which refers to a missing neigbourhood data, Waterfront communities have the highest number of listings (No data could be replaced with the Mode or left as it is) "
   ]
  },
  {
   "cell_type": "code",
   "execution_count": 688,
   "metadata": {},
   "outputs": [
    {
     "data": {
      "text/plain": [
       "<AxesSubplot:xlabel='Neighbourhood', ylabel='count'>"
      ]
     },
     "execution_count": 688,
     "metadata": {},
     "output_type": "execute_result"
    },
    {
     "data": {
      "image/png": "[encoded data removed]",
      "text/plain": [
       "<Figure size 1152x720 with 1 Axes>"
      ]
     },
     "metadata": {},
     "output_type": "display_data"
    }
   ],
   "source": [
    "#houses['City'].value_counts()\n",
    "sns.set(rc = {'figure.figsize':(16,10)})\n",
    "\n",
    "sns.countplot(x='Neighbourhood', data=houses, order=pd.value_counts(houses['Neighbourhood']).iloc[:10].index)"
   ]
  },
  {
   "cell_type": "markdown",
   "metadata": {},
   "source": [
    "Exploring the relationship between baths and prices does with a scatterplot will not show a lot as the bath is not continous. A heatmap might be better"
   ]
  },
  {
   "cell_type": "code",
   "execution_count": 743,
   "metadata": {},
   "outputs": [
    {
     "data": {
      "text/plain": [
       "<AxesSubplot:xlabel='Baths', ylabel='Price'>"
      ]
     },
     "execution_count": 743,
     "metadata": {},
     "output_type": "execute_result"
    },
    {
     "data": {
      "image/png": "[encoded data removed]",
      "text/plain": [
       "<Figure size 1152x576 with 1 Axes>"
      ]
     },
     "metadata": {},
     "output_type": "display_data"
    }
   ],
   "source": [
    "#relationship between number of Baths and price - depends on location\n",
    "sns.scatterplot(data=houses, x=\"Baths\", y=\"Price\")"
   ]
  },
  {
   "cell_type": "markdown",
   "metadata": {},
   "source": [
    "Using a heatmap shows strong correlation between beds and baths which makes sense. More Beds, More Baths (at least in a lot of cases) \n",
    "Price and Baths however seem interesting as there seems to be a strong correlation"
   ]
  },
  {
   "cell_type": "code",
   "execution_count": 690,
   "metadata": {},
   "outputs": [
    {
     "data": {
      "text/html": [
       "<div>\n",
       "<style scoped>\n",
       "    .dataframe tbody tr th:only-of-type {\n",
       "        vertical-align: middle;\n",
       "    }\n",
       "\n",
       "    .dataframe tbody tr th {\n",
       "        vertical-align: top;\n",
       "    }\n",
       "\n",
       "    .dataframe thead th {\n",
       "        text-align: right;\n",
       "    }\n",
       "</style>\n",
       "<table border=\"1\" class=\"dataframe\">\n",
       "  <thead>\n",
       "    <tr style=\"text-align: right;\">\n",
       "      <th></th>\n",
       "      <th>Beds</th>\n",
       "      <th>Baths</th>\n",
       "      <th>Price</th>\n",
       "    </tr>\n",
       "  </thead>\n",
       "  <tbody>\n",
       "    <tr>\n",
       "      <th>Beds</th>\n",
       "      <td>1.00</td>\n",
       "      <td>0.72</td>\n",
       "      <td>0.48</td>\n",
       "    </tr>\n",
       "    <tr>\n",
       "      <th>Baths</th>\n",
       "      <td>0.72</td>\n",
       "      <td>1.00</td>\n",
       "      <td>0.63</td>\n",
       "    </tr>\n",
       "    <tr>\n",
       "      <th>Price</th>\n",
       "      <td>0.48</td>\n",
       "      <td>0.63</td>\n",
       "      <td>1.00</td>\n",
       "    </tr>\n",
       "  </tbody>\n",
       "</table>\n",
       "</div>"
      ],
      "text/plain": [
       "       Beds  Baths  Price\n",
       "Beds   1.00   0.72   0.48\n",
       "Baths  0.72   1.00   0.63\n",
       "Price  0.48   0.63   1.00"
      ]
     },
     "execution_count": 690,
     "metadata": {},
     "output_type": "execute_result"
    },
    {
     "data": {
      "image/png": "[encoded data removed]",
      "text/plain": [
       "<Figure size 1152x720 with 2 Axes>"
      ]
     },
     "metadata": {},
     "output_type": "display_data"
    }
   ],
   "source": [
    "sns.heatmap(houses.corr())\n",
    "houses.corr()\n",
    "\n",
    "#the more the baths the higher the price?"
   ]
  },
  {
   "cell_type": "markdown",
   "metadata": {},
   "source": [
    "Exploring average prices by city to see the expensive cities . Jordan is the highest, however median might be a better depiction of what's happening as means tends to be disrupted by outliers."
   ]
  },
  {
   "cell_type": "code",
   "execution_count": 693,
   "metadata": {},
   "outputs": [],
   "source": [
    "city_m = houses.groupby('City')['Price'].mean()"
   ]
  },
  {
   "cell_type": "code",
   "execution_count": 694,
   "metadata": {},
   "outputs": [],
   "source": [
    "\n",
    "city_m_sorted = city_m.reset_index().sort_values(['Price'],ascending=False).set_index(['City'])"
   ]
  },
  {
   "cell_type": "code",
   "execution_count": 695,
   "metadata": {},
   "outputs": [
    {
     "data": {
      "text/html": [
       "<div>\n",
       "<style scoped>\n",
       "    .dataframe tbody tr th:only-of-type {\n",
       "        vertical-align: middle;\n",
       "    }\n",
       "\n",
       "    .dataframe tbody tr th {\n",
       "        vertical-align: top;\n",
       "    }\n",
       "\n",
       "    .dataframe thead th {\n",
       "        text-align: right;\n",
       "    }\n",
       "</style>\n",
       "<table border=\"1\" class=\"dataframe\">\n",
       "  <thead>\n",
       "    <tr style=\"text-align: right;\">\n",
       "      <th></th>\n",
       "      <th>City</th>\n",
       "      <th>Price</th>\n",
       "    </tr>\n",
       "  </thead>\n",
       "  <tbody>\n",
       "    <tr>\n",
       "      <th>0</th>\n",
       "      <td>Jordan</td>\n",
       "      <td>2900000.00</td>\n",
       "    </tr>\n",
       "    <tr>\n",
       "      <th>1</th>\n",
       "      <td>Ridgeville</td>\n",
       "      <td>2464500.00</td>\n",
       "    </tr>\n",
       "    <tr>\n",
       "      <th>2</th>\n",
       "      <td>Vaughan</td>\n",
       "      <td>1723273.86</td>\n",
       "    </tr>\n",
       "    <tr>\n",
       "      <th>3</th>\n",
       "      <td>Niagara-on-the-lake</td>\n",
       "      <td>1656148.00</td>\n",
       "    </tr>\n",
       "    <tr>\n",
       "      <th>4</th>\n",
       "      <td>Richmond Hill</td>\n",
       "      <td>1581926.92</td>\n",
       "    </tr>\n",
       "  </tbody>\n",
       "</table>\n",
       "</div>"
      ],
      "text/plain": [
       "                  City      Price\n",
       "0               Jordan 2900000.00\n",
       "1           Ridgeville 2464500.00\n",
       "2              Vaughan 1723273.86\n",
       "3  Niagara-on-the-lake 1656148.00\n",
       "4        Richmond Hill 1581926.92"
      ]
     },
     "execution_count": 695,
     "metadata": {},
     "output_type": "execute_result"
    }
   ],
   "source": [
    "city_m_sorted.reset_index(inplace = True)\n",
    "city_m_sorted.head()"
   ]
  },
  {
   "cell_type": "code",
   "execution_count": 753,
   "metadata": {},
   "outputs": [
    {
     "data": {
      "text/plain": [
       "<AxesSubplot:xlabel='City', ylabel='Price'>"
      ]
     },
     "execution_count": 753,
     "metadata": {},
     "output_type": "execute_result"
    },
    {
     "data": {
      "image/png": "[encoded data removed]",
      "text/plain": [
       "<Figure size 1152x576 with 1 Axes>"
      ]
     },
     "metadata": {},
     "output_type": "display_data"
    }
   ],
   "source": [
    "sns.barplot(x=\"City\", y=\"Price\", data=city_m_sorted.head(10))"
   ]
  },
  {
   "cell_type": "markdown",
   "metadata": {},
   "source": [
    "Investigating the houses with high average price. I can see that they only have 1 highly priced house which may not really be accurate description of house prices in that city"
   ]
  },
  {
   "cell_type": "code",
   "execution_count": 763,
   "metadata": {},
   "outputs": [
    {
     "data": {
      "text/html": [
       "<div>\n",
       "<style scoped>\n",
       "    .dataframe tbody tr th:only-of-type {\n",
       "        vertical-align: middle;\n",
       "    }\n",
       "\n",
       "    .dataframe tbody tr th {\n",
       "        vertical-align: top;\n",
       "    }\n",
       "\n",
       "    .dataframe thead th {\n",
       "        text-align: right;\n",
       "    }\n",
       "</style>\n",
       "<table border=\"1\" class=\"dataframe\">\n",
       "  <thead>\n",
       "    <tr style=\"text-align: right;\">\n",
       "      <th></th>\n",
       "      <th>City</th>\n",
       "      <th>Neighbourhood</th>\n",
       "      <th>Address</th>\n",
       "      <th>Property Type</th>\n",
       "      <th>Duration on market</th>\n",
       "      <th>Beds</th>\n",
       "      <th>Baths</th>\n",
       "      <th>Price</th>\n",
       "      <th>total_hours</th>\n",
       "    </tr>\n",
       "  </thead>\n",
       "  <tbody>\n",
       "    <tr>\n",
       "      <th>3995</th>\n",
       "      <td>Ridgeville</td>\n",
       "      <td>No data</td>\n",
       "      <td>480 Metler Road</td>\n",
       "      <td>No data</td>\n",
       "      <td>0 days</td>\n",
       "      <td>1</td>\n",
       "      <td>2</td>\n",
       "      <td>3200000</td>\n",
       "      <td>0.00</td>\n",
       "    </tr>\n",
       "    <tr>\n",
       "      <th>4304</th>\n",
       "      <td>Ridgeville</td>\n",
       "      <td>No data</td>\n",
       "      <td>1584 Lookout Street</td>\n",
       "      <td>No data</td>\n",
       "      <td>0 days</td>\n",
       "      <td>8</td>\n",
       "      <td>5</td>\n",
       "      <td>1729000</td>\n",
       "      <td>0.00</td>\n",
       "    </tr>\n",
       "  </tbody>\n",
       "</table>\n",
       "</div>"
      ],
      "text/plain": [
       "            City Neighbourhood              Address Property Type  \\\n",
       "3995  Ridgeville       No data      480 Metler Road       No data   \n",
       "4304  Ridgeville       No data  1584 Lookout Street       No data   \n",
       "\n",
       "     Duration on market  Beds  Baths    Price  total_hours  \n",
       "3995             0 days     1      2  3200000         0.00  \n",
       "4304             0 days     8      5  1729000         0.00  "
      ]
     },
     "execution_count": 763,
     "metadata": {},
     "output_type": "execute_result"
    }
   ],
   "source": [
    "#high average price in Jordan and Ridgeville are due to very highly priced 1 or 2 houses \n",
    "houses[houses.City == 'Ridgeville']"
   ]
  },
  {
   "cell_type": "code",
   "execution_count": 762,
   "metadata": {},
   "outputs": [
    {
     "data": {
      "text/html": [
       "<div>\n",
       "<style scoped>\n",
       "    .dataframe tbody tr th:only-of-type {\n",
       "        vertical-align: middle;\n",
       "    }\n",
       "\n",
       "    .dataframe tbody tr th {\n",
       "        vertical-align: top;\n",
       "    }\n",
       "\n",
       "    .dataframe thead th {\n",
       "        text-align: right;\n",
       "    }\n",
       "</style>\n",
       "<table border=\"1\" class=\"dataframe\">\n",
       "  <thead>\n",
       "    <tr style=\"text-align: right;\">\n",
       "      <th></th>\n",
       "      <th>City</th>\n",
       "      <th>Neighbourhood</th>\n",
       "      <th>Address</th>\n",
       "      <th>Property Type</th>\n",
       "      <th>Duration on market</th>\n",
       "      <th>Beds</th>\n",
       "      <th>Baths</th>\n",
       "      <th>Price</th>\n",
       "      <th>total_hours</th>\n",
       "    </tr>\n",
       "  </thead>\n",
       "  <tbody>\n",
       "    <tr>\n",
       "      <th>0</th>\n",
       "      <td>Niagara Falls</td>\n",
       "      <td>No data</td>\n",
       "      <td>7390 Westfield Drive</td>\n",
       "      <td>House</td>\n",
       "      <td>0 days 00:04:00</td>\n",
       "      <td>3</td>\n",
       "      <td>2</td>\n",
       "      <td>799900</td>\n",
       "      <td>0.07</td>\n",
       "    </tr>\n",
       "    <tr>\n",
       "      <th>1</th>\n",
       "      <td>Oshawa</td>\n",
       "      <td>Central</td>\n",
       "      <td>321 Gliddon Avenue</td>\n",
       "      <td>House</td>\n",
       "      <td>0 days 00:19:00</td>\n",
       "      <td>4</td>\n",
       "      <td>2</td>\n",
       "      <td>549000</td>\n",
       "      <td>0.32</td>\n",
       "    </tr>\n",
       "    <tr>\n",
       "      <th>2</th>\n",
       "      <td>St. Catharines</td>\n",
       "      <td>No data</td>\n",
       "      <td>46 Pelham Road</td>\n",
       "      <td>No data</td>\n",
       "      <td>0 days 00:00:00</td>\n",
       "      <td>3</td>\n",
       "      <td>2</td>\n",
       "      <td>399900</td>\n",
       "      <td>0.00</td>\n",
       "    </tr>\n",
       "    <tr>\n",
       "      <th>3</th>\n",
       "      <td>Toronto</td>\n",
       "      <td>Annex</td>\n",
       "      <td>17 Boswell Avenue</td>\n",
       "      <td>Townhouse</td>\n",
       "      <td>0 days 00:34:00</td>\n",
       "      <td>3</td>\n",
       "      <td>5</td>\n",
       "      <td>6495000</td>\n",
       "      <td>0.57</td>\n",
       "    </tr>\n",
       "    <tr>\n",
       "      <th>4</th>\n",
       "      <td>Toronto</td>\n",
       "      <td>Waterfront Communities C1</td>\n",
       "      <td>1102-8 Charlotte Street</td>\n",
       "      <td>Condo</td>\n",
       "      <td>0 days 00:44:00</td>\n",
       "      <td>2</td>\n",
       "      <td>2</td>\n",
       "      <td>988000</td>\n",
       "      <td>0.73</td>\n",
       "    </tr>\n",
       "  </tbody>\n",
       "</table>\n",
       "</div>"
      ],
      "text/plain": [
       "             City              Neighbourhood                  Address  \\\n",
       "0   Niagara Falls                    No data     7390 Westfield Drive   \n",
       "1          Oshawa                    Central       321 Gliddon Avenue   \n",
       "2  St. Catharines                    No data           46 Pelham Road   \n",
       "3         Toronto                      Annex        17 Boswell Avenue   \n",
       "4         Toronto  Waterfront Communities C1  1102-8 Charlotte Street   \n",
       "\n",
       "  Property Type Duration on market  Beds  Baths    Price  total_hours  \n",
       "0         House    0 days 00:04:00     3      2   799900         0.07  \n",
       "1         House    0 days 00:19:00     4      2   549000         0.32  \n",
       "2       No data    0 days 00:00:00     3      2   399900         0.00  \n",
       "3     Townhouse    0 days 00:34:00     3      5  6495000         0.57  \n",
       "4         Condo    0 days 00:44:00     2      2   988000         0.73  "
      ]
     },
     "execution_count": 762,
     "metadata": {},
     "output_type": "execute_result"
    }
   ],
   "source": [
    "houses.head()"
   ]
  },
  {
   "cell_type": "markdown",
   "metadata": {},
   "source": [
    "Doing a bit of feature engineering to see how property type correlates with price and other variables "
   ]
  },
  {
   "cell_type": "code",
   "execution_count": 785,
   "metadata": {},
   "outputs": [],
   "source": [
    "houses_num = houses.copy()\n",
    "houses_num = pd.get_dummies(houses_num, columns=['Property Type'], prefix=\"type\")\n"
   ]
  },
  {
   "cell_type": "code",
   "execution_count": 786,
   "metadata": {},
   "outputs": [
    {
     "data": {
      "text/html": [
       "<div>\n",
       "<style scoped>\n",
       "    .dataframe tbody tr th:only-of-type {\n",
       "        vertical-align: middle;\n",
       "    }\n",
       "\n",
       "    .dataframe tbody tr th {\n",
       "        vertical-align: top;\n",
       "    }\n",
       "\n",
       "    .dataframe thead th {\n",
       "        text-align: right;\n",
       "    }\n",
       "</style>\n",
       "<table border=\"1\" class=\"dataframe\">\n",
       "  <thead>\n",
       "    <tr style=\"text-align: right;\">\n",
       "      <th></th>\n",
       "      <th>City</th>\n",
       "      <th>Neighbourhood</th>\n",
       "      <th>Address</th>\n",
       "      <th>Duration on market</th>\n",
       "      <th>Beds</th>\n",
       "      <th>Baths</th>\n",
       "      <th>Price</th>\n",
       "      <th>total_hours</th>\n",
       "      <th>type_Condo</th>\n",
       "      <th>type_House</th>\n",
       "      <th>type_No data</th>\n",
       "      <th>type_Townhouse</th>\n",
       "    </tr>\n",
       "  </thead>\n",
       "  <tbody>\n",
       "    <tr>\n",
       "      <th>0</th>\n",
       "      <td>Niagara Falls</td>\n",
       "      <td>No data</td>\n",
       "      <td>7390 Westfield Drive</td>\n",
       "      <td>0 days 00:04:00</td>\n",
       "      <td>3</td>\n",
       "      <td>2</td>\n",
       "      <td>799900</td>\n",
       "      <td>0.07</td>\n",
       "      <td>0</td>\n",
       "      <td>1</td>\n",
       "      <td>0</td>\n",
       "      <td>0</td>\n",
       "    </tr>\n",
       "    <tr>\n",
       "      <th>1</th>\n",
       "      <td>Oshawa</td>\n",
       "      <td>Central</td>\n",
       "      <td>321 Gliddon Avenue</td>\n",
       "      <td>0 days 00:19:00</td>\n",
       "      <td>4</td>\n",
       "      <td>2</td>\n",
       "      <td>549000</td>\n",
       "      <td>0.32</td>\n",
       "      <td>0</td>\n",
       "      <td>1</td>\n",
       "      <td>0</td>\n",
       "      <td>0</td>\n",
       "    </tr>\n",
       "    <tr>\n",
       "      <th>2</th>\n",
       "      <td>St. Catharines</td>\n",
       "      <td>No data</td>\n",
       "      <td>46 Pelham Road</td>\n",
       "      <td>0 days 00:00:00</td>\n",
       "      <td>3</td>\n",
       "      <td>2</td>\n",
       "      <td>399900</td>\n",
       "      <td>128.62</td>\n",
       "      <td>0</td>\n",
       "      <td>0</td>\n",
       "      <td>1</td>\n",
       "      <td>0</td>\n",
       "    </tr>\n",
       "    <tr>\n",
       "      <th>3</th>\n",
       "      <td>Toronto</td>\n",
       "      <td>Annex</td>\n",
       "      <td>17 Boswell Avenue</td>\n",
       "      <td>0 days 00:34:00</td>\n",
       "      <td>3</td>\n",
       "      <td>5</td>\n",
       "      <td>6495000</td>\n",
       "      <td>0.57</td>\n",
       "      <td>0</td>\n",
       "      <td>0</td>\n",
       "      <td>0</td>\n",
       "      <td>1</td>\n",
       "    </tr>\n",
       "    <tr>\n",
       "      <th>4</th>\n",
       "      <td>Toronto</td>\n",
       "      <td>Waterfront Communities C1</td>\n",
       "      <td>1102-8 Charlotte Street</td>\n",
       "      <td>0 days 00:44:00</td>\n",
       "      <td>2</td>\n",
       "      <td>2</td>\n",
       "      <td>988000</td>\n",
       "      <td>0.73</td>\n",
       "      <td>1</td>\n",
       "      <td>0</td>\n",
       "      <td>0</td>\n",
       "      <td>0</td>\n",
       "    </tr>\n",
       "  </tbody>\n",
       "</table>\n",
       "</div>"
      ],
      "text/plain": [
       "             City              Neighbourhood                  Address  \\\n",
       "0   Niagara Falls                    No data     7390 Westfield Drive   \n",
       "1          Oshawa                    Central       321 Gliddon Avenue   \n",
       "2  St. Catharines                    No data           46 Pelham Road   \n",
       "3         Toronto                      Annex        17 Boswell Avenue   \n",
       "4         Toronto  Waterfront Communities C1  1102-8 Charlotte Street   \n",
       "\n",
       "  Duration on market  Beds  Baths    Price  total_hours  type_Condo  \\\n",
       "0    0 days 00:04:00     3      2   799900         0.07           0   \n",
       "1    0 days 00:19:00     4      2   549000         0.32           0   \n",
       "2    0 days 00:00:00     3      2   399900       128.62           0   \n",
       "3    0 days 00:34:00     3      5  6495000         0.57           0   \n",
       "4    0 days 00:44:00     2      2   988000         0.73           1   \n",
       "\n",
       "   type_House  type_No data  type_Townhouse  \n",
       "0           1             0               0  \n",
       "1           1             0               0  \n",
       "2           0             1               0  \n",
       "3           0             0               1  \n",
       "4           0             0               0  "
      ]
     },
     "execution_count": 786,
     "metadata": {},
     "output_type": "execute_result"
    }
   ],
   "source": [
    "houses_num.head()"
   ]
  },
  {
   "cell_type": "markdown",
   "metadata": {},
   "source": [
    "Looking at the socres, I can see a correlation between houses and baths as well as houses and beds. I can also see one between houses and price, now this is not enough to determine that large houses will always result in high prices because other factors such as neighbourhoods need to be considered. E.g A 3 bed house in Toronto might be 1M while the same house in London might be 600K "
   ]
  },
  {
   "cell_type": "code",
   "execution_count": 788,
   "metadata": {},
   "outputs": [
    {
     "data": {
      "text/html": [
       "<div>\n",
       "<style scoped>\n",
       "    .dataframe tbody tr th:only-of-type {\n",
       "        vertical-align: middle;\n",
       "    }\n",
       "\n",
       "    .dataframe tbody tr th {\n",
       "        vertical-align: top;\n",
       "    }\n",
       "\n",
       "    .dataframe thead th {\n",
       "        text-align: right;\n",
       "    }\n",
       "</style>\n",
       "<table border=\"1\" class=\"dataframe\">\n",
       "  <thead>\n",
       "    <tr style=\"text-align: right;\">\n",
       "      <th></th>\n",
       "      <th>Beds</th>\n",
       "      <th>Baths</th>\n",
       "      <th>Price</th>\n",
       "      <th>total_hours</th>\n",
       "      <th>type_Condo</th>\n",
       "      <th>type_House</th>\n",
       "      <th>type_No data</th>\n",
       "      <th>type_Townhouse</th>\n",
       "    </tr>\n",
       "  </thead>\n",
       "  <tbody>\n",
       "    <tr>\n",
       "      <th>Beds</th>\n",
       "      <td>1.00</td>\n",
       "      <td>0.72</td>\n",
       "      <td>0.48</td>\n",
       "      <td>0.02</td>\n",
       "      <td>-0.67</td>\n",
       "      <td>0.54</td>\n",
       "      <td>-0.01</td>\n",
       "      <td>0.17</td>\n",
       "    </tr>\n",
       "    <tr>\n",
       "      <th>Baths</th>\n",
       "      <td>0.72</td>\n",
       "      <td>1.00</td>\n",
       "      <td>0.63</td>\n",
       "      <td>0.04</td>\n",
       "      <td>-0.53</td>\n",
       "      <td>0.43</td>\n",
       "      <td>-0.05</td>\n",
       "      <td>0.15</td>\n",
       "    </tr>\n",
       "    <tr>\n",
       "      <th>Price</th>\n",
       "      <td>0.48</td>\n",
       "      <td>0.63</td>\n",
       "      <td>1.00</td>\n",
       "      <td>0.06</td>\n",
       "      <td>-0.32</td>\n",
       "      <td>0.34</td>\n",
       "      <td>-0.05</td>\n",
       "      <td>-0.01</td>\n",
       "    </tr>\n",
       "    <tr>\n",
       "      <th>total_hours</th>\n",
       "      <td>0.02</td>\n",
       "      <td>0.04</td>\n",
       "      <td>0.06</td>\n",
       "      <td>1.00</td>\n",
       "      <td>0.00</td>\n",
       "      <td>-0.01</td>\n",
       "      <td>0.00</td>\n",
       "      <td>0.01</td>\n",
       "    </tr>\n",
       "    <tr>\n",
       "      <th>type_Condo</th>\n",
       "      <td>-0.67</td>\n",
       "      <td>-0.53</td>\n",
       "      <td>-0.32</td>\n",
       "      <td>0.00</td>\n",
       "      <td>1.00</td>\n",
       "      <td>-0.68</td>\n",
       "      <td>-0.15</td>\n",
       "      <td>-0.34</td>\n",
       "    </tr>\n",
       "    <tr>\n",
       "      <th>type_House</th>\n",
       "      <td>0.54</td>\n",
       "      <td>0.43</td>\n",
       "      <td>0.34</td>\n",
       "      <td>-0.01</td>\n",
       "      <td>-0.68</td>\n",
       "      <td>1.00</td>\n",
       "      <td>-0.16</td>\n",
       "      <td>-0.37</td>\n",
       "    </tr>\n",
       "    <tr>\n",
       "      <th>type_No data</th>\n",
       "      <td>-0.01</td>\n",
       "      <td>-0.05</td>\n",
       "      <td>-0.05</td>\n",
       "      <td>0.00</td>\n",
       "      <td>-0.15</td>\n",
       "      <td>-0.16</td>\n",
       "      <td>1.00</td>\n",
       "      <td>-0.08</td>\n",
       "    </tr>\n",
       "    <tr>\n",
       "      <th>type_Townhouse</th>\n",
       "      <td>0.17</td>\n",
       "      <td>0.15</td>\n",
       "      <td>-0.01</td>\n",
       "      <td>0.01</td>\n",
       "      <td>-0.34</td>\n",
       "      <td>-0.37</td>\n",
       "      <td>-0.08</td>\n",
       "      <td>1.00</td>\n",
       "    </tr>\n",
       "  </tbody>\n",
       "</table>\n",
       "</div>"
      ],
      "text/plain": [
       "                Beds  Baths  Price  total_hours  type_Condo  type_House  \\\n",
       "Beds            1.00   0.72   0.48         0.02       -0.67        0.54   \n",
       "Baths           0.72   1.00   0.63         0.04       -0.53        0.43   \n",
       "Price           0.48   0.63   1.00         0.06       -0.32        0.34   \n",
       "total_hours     0.02   0.04   0.06         1.00        0.00       -0.01   \n",
       "type_Condo     -0.67  -0.53  -0.32         0.00        1.00       -0.68   \n",
       "type_House      0.54   0.43   0.34        -0.01       -0.68        1.00   \n",
       "type_No data   -0.01  -0.05  -0.05         0.00       -0.15       -0.16   \n",
       "type_Townhouse  0.17   0.15  -0.01         0.01       -0.34       -0.37   \n",
       "\n",
       "                type_No data  type_Townhouse  \n",
       "Beds                   -0.01            0.17  \n",
       "Baths                  -0.05            0.15  \n",
       "Price                  -0.05           -0.01  \n",
       "total_hours             0.00            0.01  \n",
       "type_Condo             -0.15           -0.34  \n",
       "type_House             -0.16           -0.37  \n",
       "type_No data            1.00           -0.08  \n",
       "type_Townhouse         -0.08            1.00  "
      ]
     },
     "execution_count": 788,
     "metadata": {},
     "output_type": "execute_result"
    },
    {
     "data": {
      "image/png": "[encoded data removed]",
      "text/plain": [
       "<Figure size 1152x576 with 2 Axes>"
      ]
     },
     "metadata": {},
     "output_type": "display_data"
    }
   ],
   "source": [
    "sns.heatmap(houses_num.corr())\n",
    "houses_num.corr()"
   ]
  },
  {
   "cell_type": "code",
   "execution_count": null,
   "metadata": {},
   "outputs": [],
   "source": []
  }
 ],
 "metadata": {
  "kernelspec": {
   "display_name": "Python 3",
   "language": "python",
   "name": "python3"
  },
  "language_info": {
   "codemirror_mode": {
    "name": "ipython",
    "version": 3
   },
   "file_extension": ".py",
   "mimetype": "text/x-python",
   "name": "python",
   "nbconvert_exporter": "python",
   "pygments_lexer": "ipython3",
   "version": "3.7.1"
  }
 },
 "nbformat": 4,
 "nbformat_minor": 2
}
